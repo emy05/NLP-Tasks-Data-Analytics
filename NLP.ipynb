{
  "nbformat": 4,
  "nbformat_minor": 0,
  "metadata": {
    "colab": {
      "provenance": [],
      "authorship_tag": "ABX9TyPJMd6UFPMhFfJxYF7VSJie",
      "include_colab_link": true
    },
    "kernelspec": {
      "name": "python3",
      "display_name": "Python 3"
    },
    "language_info": {
      "name": "python"
    }
  },
  "cells": [
    {
      "cell_type": "markdown",
      "metadata": {
        "id": "view-in-github",
        "colab_type": "text"
      },
      "source": [
        "<a href=\"https://colab.research.google.com/github/emy05/NLP-Tasks-Data-Analytics/blob/main/NLP.ipynb\" target=\"_parent\"><img src=\"https://colab.research.google.com/assets/colab-badge.svg\" alt=\"Open In Colab\"/></a>"
      ]
    },
    {
      "cell_type": "markdown",
      "source": [
        "SENTENCE TOKENIZATION"
      ],
      "metadata": {
        "id": "rl78i-E7A8Lx"
      }
    },
    {
      "cell_type": "code",
      "execution_count": null,
      "metadata": {
        "colab": {
          "base_uri": "https://localhost:8080/"
        },
        "id": "dzDVFN842zaH",
        "outputId": "3bf5caa2-0d8a-43b3-b05e-593faac896e7"
      },
      "outputs": [
        {
          "output_type": "stream",
          "name": "stderr",
          "text": [
            "[nltk_data] Downloading package punkt to /root/nltk_data...\n",
            "[nltk_data]   Unzipping tokenizers/punkt.zip.\n"
          ]
        }
      ],
      "source": [
        "import nltk\n",
        "nltk.download('punkt')\n",
        "from nltk.tokenize import sent_tokenize"
      ]
    },
    {
      "cell_type": "code",
      "source": [
        "# Define the text to be analyzed\n",
        "text = \"Space exploration has captivated human curiosity for centuries, beginning with ancient astronomers observing the night sky and progressing to modern-day missions to the International Space Station and beyond.In recent years, there has been a renewed interest in space exploration, particularly with the rise of private companies like SpaceX and Blue Origin. These companies have been developing reusable rockets and other technologies to make space travel more affordable and accessible.The future of space exploration is also shaped by global collaboration, with the International Space Station being a prime example of this. NASA has plans to return to the moon with the Artemis program, which aims to establish a sustainable presence on the lunar surface by 2024. There are also plans for crewed missions to Mars in the coming decades, with NASA's Mars 2020 mission already underway.\"\n",
        "# Tokenize the text into sentences\n",
        "sentences = sent_tokenize(text)\n",
        "print(sentences)"
      ],
      "metadata": {
        "colab": {
          "base_uri": "https://localhost:8080/"
        },
        "id": "sfCFBMNg389I",
        "outputId": "1d695be1-42b9-47ee-ac0d-fe8e00b724d0"
      },
      "execution_count": null,
      "outputs": [
        {
          "output_type": "stream",
          "name": "stdout",
          "text": [
            "['Space exploration has captivated human curiosity for centuries, beginning with ancient astronomers observing the night sky and progressing to modern-day missions to the International Space Station and beyond.In recent years, there has been a renewed interest in space exploration, particularly with the rise of private companies like SpaceX and Blue Origin.', 'These companies have been developing reusable rockets and other technologies to make space travel more affordable and accessible.The future of space exploration is also shaped by global collaboration, with the International Space Station being a prime example of this.', 'NASA has plans to return to the moon with the Artemis program, which aims to establish a sustainable presence on the lunar surface by 2024.', \"There are also plans for crewed missions to Mars in the coming decades, with NASA's Mars 2020 mission already underway.\"]\n"
          ]
        }
      ]
    },
    {
      "cell_type": "markdown",
      "source": [
        "WORD TOKENIZATION"
      ],
      "metadata": {
        "id": "lGUAEF1sBU1x"
      }
    },
    {
      "cell_type": "code",
      "source": [
        "# Perform word tokenization on each sentence\n",
        "from nltk.tokenize import word_tokenize"
      ],
      "metadata": {
        "id": "jlkexYCg4vJ7"
      },
      "execution_count": null,
      "outputs": []
    },
    {
      "cell_type": "code",
      "source": [
        "words = []\n",
        "for sentence in sentences:\n",
        "    sentence_words = word_tokenize(sentence)\n",
        "    words.append(sentence_words)\n",
        "print(words)"
      ],
      "metadata": {
        "colab": {
          "base_uri": "https://localhost:8080/"
        },
        "id": "u78Q64Ym43mC",
        "outputId": "8df35e00-0149-4d59-e7c5-4c32e3f6f534"
      },
      "execution_count": null,
      "outputs": [
        {
          "metadata": {
            "tags": null
          },
          "name": "stdout",
          "output_type": "stream",
          "text": [
            "[['Space', 'exploration', 'has', 'captivated', 'human', 'curiosity', 'for', 'centuries', ',', 'beginning', 'with', 'ancient', 'astronomers', 'observing', 'the', 'night', 'sky', 'and', 'progressing', 'to', 'modern-day', 'missions', 'to', 'the', 'International', 'Space', 'Station', 'and', 'beyond.In', 'recent', 'years', ',', 'there', 'has', 'been', 'a', 'renewed', 'interest', 'in', 'space', 'exploration', ',', 'particularly', 'with', 'the', 'rise', 'of', 'private', 'companies', 'like', 'SpaceX', 'and', 'Blue', 'Origin', '.'], ['These', 'companies', 'have', 'been', 'developing', 'reusable', 'rockets', 'and', 'other', 'technologies', 'to', 'make', 'space', 'travel', 'more', 'affordable', 'and', 'accessible.The', 'future', 'of', 'space', 'exploration', 'is', 'also', 'shaped', 'by', 'global', 'collaboration', ',', 'with', 'the', 'International', 'Space', 'Station', 'being', 'a', 'prime', 'example', 'of', 'this', '.'], ['NASA', 'has', 'plans', 'to', 'return', 'to', 'the', 'moon', 'with', 'the', 'Artemis', 'program', ',', 'which', 'aims', 'to', 'establish', 'a', 'sustainable', 'presence', 'on', 'the', 'lunar', 'surface', 'by', '2024', '.'], ['There', 'are', 'also', 'plans', 'for', 'crewed', 'missions', 'to', 'Mars', 'in', 'the', 'coming', 'decades', ',', 'with', 'NASA', \"'s\", 'Mars', '2020', 'mission', 'already', 'underway', '.']]\n"
          ]
        }
      ]
    },
    {
      "cell_type": "markdown",
      "source": [
        "REMOVING STOP WORDS"
      ],
      "metadata": {
        "id": "xuICQIaCBYS4"
      }
    },
    {
      "cell_type": "code",
      "source": [
        "# Remove stop words from each sentence\n",
        "from nltk.corpus import stopwords\n",
        "nltk.download('stopwords')"
      ],
      "metadata": {
        "colab": {
          "base_uri": "https://localhost:8080/"
        },
        "id": "-qAuc7Bv48TQ",
        "outputId": "70e6fb34-2493-4df3-f0e9-97f372782596"
      },
      "execution_count": null,
      "outputs": [
        {
          "output_type": "stream",
          "name": "stderr",
          "text": [
            "[nltk_data] Downloading package stopwords to /root/nltk_data...\n",
            "[nltk_data]   Unzipping corpora/stopwords.zip.\n"
          ]
        },
        {
          "output_type": "execute_result",
          "data": {
            "text/plain": [
              "True"
            ]
          },
          "metadata": {},
          "execution_count": 10
        }
      ]
    },
    {
      "cell_type": "code",
      "source": [
        "stop_words = set(stopwords.words('english'))\n",
        "filtered_words = []\n",
        "for sentence_words in words:\n",
        "    filtered_sentence_words = [word for word in sentence_words if word.lower() not in stop_words]\n",
        "    filtered_words.append(filtered_sentence_words)\n",
        "print(filtered_words)"
      ],
      "metadata": {
        "colab": {
          "base_uri": "https://localhost:8080/"
        },
        "id": "1XdFjZZY5Fdc",
        "outputId": "05a1fe21-90b0-4b5f-a4eb-166e3e27f625"
      },
      "execution_count": null,
      "outputs": [
        {
          "output_type": "stream",
          "name": "stdout",
          "text": [
            "[['Space', 'exploration', 'captivated', 'human', 'curiosity', 'centuries', ',', 'beginning', 'ancient', 'astronomers', 'observing', 'night', 'sky', 'progressing', 'modern-day', 'missions', 'International', 'Space', 'Station', 'beyond.In', 'recent', 'years', ',', 'renewed', 'interest', 'space', 'exploration', ',', 'particularly', 'rise', 'private', 'companies', 'like', 'SpaceX', 'Blue', 'Origin', '.'], ['companies', 'developing', 'reusable', 'rockets', 'technologies', 'make', 'space', 'travel', 'affordable', 'accessible.The', 'future', 'space', 'exploration', 'also', 'shaped', 'global', 'collaboration', ',', 'International', 'Space', 'Station', 'prime', 'example', '.'], ['NASA', 'plans', 'return', 'moon', 'Artemis', 'program', ',', 'aims', 'establish', 'sustainable', 'presence', 'lunar', 'surface', '2024', '.'], ['also', 'plans', 'crewed', 'missions', 'Mars', 'coming', 'decades', ',', 'NASA', \"'s\", 'Mars', '2020', 'mission', 'already', 'underway', '.']]\n"
          ]
        }
      ]
    },
    {
      "cell_type": "markdown",
      "source": [
        "STEMMING"
      ],
      "metadata": {
        "id": "jstRlOv2BfcG"
      }
    },
    {
      "cell_type": "code",
      "source": [
        "# Perform stemming on each word\n",
        "from nltk.stem import PorterStemmer"
      ],
      "metadata": {
        "id": "IRrCF_Hu5I5-"
      },
      "execution_count": null,
      "outputs": []
    },
    {
      "cell_type": "code",
      "source": [
        "stemmer = PorterStemmer()\n",
        "stemmed_words = []\n",
        "for sentence_words in filtered_words:\n",
        "    stemmed_sentence_words = [stemmer.stem(word) for word in sentence_words]\n",
        "    stemmed_words.append(stemmed_sentence_words)\n",
        "print(stemmed_words)"
      ],
      "metadata": {
        "colab": {
          "base_uri": "https://localhost:8080/"
        },
        "id": "jVTDqjcv5Oq2",
        "outputId": "e336249a-cb71-49cd-ce12-77ee76940339"
      },
      "execution_count": null,
      "outputs": [
        {
          "output_type": "stream",
          "name": "stdout",
          "text": [
            "[['space', 'explor', 'captiv', 'human', 'curios', 'centuri', ',', 'begin', 'ancient', 'astronom', 'observ', 'night', 'sky', 'progress', 'modern-day', 'mission', 'intern', 'space', 'station', 'beyond.in', 'recent', 'year', ',', 'renew', 'interest', 'space', 'explor', ',', 'particularli', 'rise', 'privat', 'compani', 'like', 'spacex', 'blue', 'origin', '.'], ['compani', 'develop', 'reusabl', 'rocket', 'technolog', 'make', 'space', 'travel', 'afford', 'accessible.th', 'futur', 'space', 'explor', 'also', 'shape', 'global', 'collabor', ',', 'intern', 'space', 'station', 'prime', 'exampl', '.'], ['nasa', 'plan', 'return', 'moon', 'artemi', 'program', ',', 'aim', 'establish', 'sustain', 'presenc', 'lunar', 'surfac', '2024', '.'], ['also', 'plan', 'crew', 'mission', 'mar', 'come', 'decad', ',', 'nasa', \"'s\", 'mar', '2020', 'mission', 'alreadi', 'underway', '.']]\n"
          ]
        }
      ]
    },
    {
      "cell_type": "markdown",
      "source": [
        "LEMMATIZATION"
      ],
      "metadata": {
        "id": "hpCWkqN9Bj7y"
      }
    },
    {
      "cell_type": "code",
      "source": [
        "# Perform lemmatization on each word\n",
        "from nltk.stem import WordNetLemmatizer\n",
        "nltk.download('wordnet')\n",
        "nltk.download('omw-1.4')"
      ],
      "metadata": {
        "colab": {
          "base_uri": "https://localhost:8080/"
        },
        "id": "TwTm3-Cm5zG-",
        "outputId": "a3298b8c-3344-462e-cc56-7d8578f46697"
      },
      "execution_count": null,
      "outputs": [
        {
          "output_type": "stream",
          "name": "stderr",
          "text": [
            "[nltk_data] Downloading package wordnet to /root/nltk_data...\n",
            "[nltk_data]   Package wordnet is already up-to-date!\n",
            "[nltk_data] Downloading package omw-1.4 to /root/nltk_data...\n"
          ]
        },
        {
          "output_type": "execute_result",
          "data": {
            "text/plain": [
              "True"
            ]
          },
          "metadata": {},
          "execution_count": 19
        }
      ]
    },
    {
      "cell_type": "code",
      "source": [
        "lemmatizer = WordNetLemmatizer()\n",
        "\n",
        "lemmatized_words = []\n",
        "for sentence_words in filtered_words:\n",
        "    lemmatized_sentence_words = [lemmatizer.lemmatize(word) for word in sentence_words]\n",
        "    lemmatized_words.append(lemmatized_sentence_words)\n",
        "print(lemmatized_words)"
      ],
      "metadata": {
        "colab": {
          "base_uri": "https://localhost:8080/"
        },
        "id": "dveOBtX753qX",
        "outputId": "4a9194eb-86d8-447e-d748-fb932c2c5d4f"
      },
      "execution_count": null,
      "outputs": [
        {
          "output_type": "stream",
          "name": "stdout",
          "text": [
            "[['Space', 'exploration', 'captivated', 'human', 'curiosity', 'century', ',', 'beginning', 'ancient', 'astronomer', 'observing', 'night', 'sky', 'progressing', 'modern-day', 'mission', 'International', 'Space', 'Station', 'beyond.In', 'recent', 'year', ',', 'renewed', 'interest', 'space', 'exploration', ',', 'particularly', 'rise', 'private', 'company', 'like', 'SpaceX', 'Blue', 'Origin', '.'], ['company', 'developing', 'reusable', 'rocket', 'technology', 'make', 'space', 'travel', 'affordable', 'accessible.The', 'future', 'space', 'exploration', 'also', 'shaped', 'global', 'collaboration', ',', 'International', 'Space', 'Station', 'prime', 'example', '.'], ['NASA', 'plan', 'return', 'moon', 'Artemis', 'program', ',', 'aim', 'establish', 'sustainable', 'presence', 'lunar', 'surface', '2024', '.'], ['also', 'plan', 'crewed', 'mission', 'Mars', 'coming', 'decade', ',', 'NASA', \"'s\", 'Mars', '2020', 'mission', 'already', 'underway', '.']]\n"
          ]
        }
      ]
    },
    {
      "cell_type": "markdown",
      "source": [
        "DEPENDENCY PARSING"
      ],
      "metadata": {
        "id": "SV55KISzBm1s"
      }
    },
    {
      "cell_type": "code",
      "source": [
        "import spacy\n",
        "from spacy import displacy"
      ],
      "metadata": {
        "colab": {
          "base_uri": "https://localhost:8080/"
        },
        "id": "x1HcO_ZY8t-w",
        "outputId": "b7a72f9d-ad89-4d8e-ba43-ff909849f1dd"
      },
      "execution_count": null,
      "outputs": [
        {
          "output_type": "stream",
          "name": "stderr",
          "text": [
            "/usr/local/lib/python3.9/dist-packages/torch/cuda/__init__.py:497: UserWarning: Can't initialize NVML\n",
            "  warnings.warn(\"Can't initialize NVML\")\n"
          ]
        }
      ]
    },
    {
      "cell_type": "code",
      "source": [
        "# Load the pre-trained English model\n",
        "nlp = spacy.load(\"en_core_web_sm\")"
      ],
      "metadata": {
        "id": "pyrPi8q--Dia"
      },
      "execution_count": null,
      "outputs": []
    },
    {
      "cell_type": "code",
      "source": [
        "sentence = text\n",
        "# nlp function returns an object with individual token information, \n",
        "# linguistic features and relationships\n",
        "doc = nlp(sentence)\n",
        "\n",
        "print(\"{:<15} | {:<8} | {:<15} | {:<20}\".format('Token','Relation','Head', 'Children'))\n",
        "print(\"-\" * 70)\n",
        "\n",
        "for token in doc:\n",
        "    # Print the token, dependency nature, head and all dependents of the token\n",
        "    print(\"{:<15} | {:<8} | {:<15} | {:<20}\"\n",
        "          .format(str(token.text), str(token.dep_), str(token.head.text), str([child for child in token.children])))\n",
        "\n",
        "# Use displacy to visualize the dependency \n",
        "displacy.render(doc, style='dep', options={'distance': 120})"
      ],
      "metadata": {
        "id": "CCfA2-wC-3W8",
        "colab": {
          "base_uri": "https://localhost:8080/",
          "height": 729
        },
        "outputId": "7dcb477d-2569-4289-c18f-353d052fa067"
      },
      "execution_count": 46,
      "outputs": [
        {
          "output_type": "stream",
          "name": "stdout",
          "text": [
            "Token           | Relation | Head            | Children            \n",
            "----------------------------------------------------------------------\n",
            "Space           | compound | exploration     | []                  \n",
            "exploration     | nsubj    | captivated      | [Space]             \n",
            "has             | aux      | captivated      | []                  \n",
            "captivated      | ROOT     | captivated      | [exploration, has, curiosity, ,, beginning, .]\n",
            "human           | amod     | curiosity       | []                  \n",
            "curiosity       | dobj     | captivated      | [human, for]        \n",
            "for             | prep     | curiosity       | [centuries]         \n",
            "centuries       | pobj     | for             | []                  \n",
            ",               | punct    | captivated      | []                  \n",
            "beginning       | advcl    | captivated      | [with]              \n",
            "with            | prep     | beginning       | [astronomers]       \n",
            "ancient         | amod     | astronomers     | []                  \n",
            "astronomers     | pobj     | with            | [ancient, observing]\n",
            "observing       | acl      | astronomers     | [sky, and, progressing]\n",
            "the             | det      | sky             | []                  \n",
            "night           | compound | sky             | []                  \n",
            "sky             | dobj     | observing       | [the, night]        \n",
            "and             | cc       | observing       | []                  \n",
            "progressing     | conj     | observing       | [to, to]            \n",
            "to              | prep     | progressing     | [missions]          \n",
            "modern          | amod     | day             | []                  \n",
            "-               | punct    | day             | []                  \n",
            "day             | compound | missions        | [modern, -]         \n",
            "missions        | pobj     | to              | [day]               \n",
            "to              | prep     | progressing     | [Station, and, beyond]\n",
            "the             | det      | Station         | []                  \n",
            "International   | compound | Station         | []                  \n",
            "Space           | compound | Station         | []                  \n",
            "Station         | pobj     | to              | [the, International, Space]\n",
            "and             | cc       | to              | []                  \n",
            "beyond          | conj     | to              | []                  \n",
            ".               | punct    | captivated      | []                  \n"
          ]
        },
        {
          "output_type": "execute_result",
          "data": {
            "text/plain": [
              "'<svg xmlns=\"http://www.w3.org/2000/svg\" xmlns:xlink=\"http://www.w3.org/1999/xlink\" xml:lang=\"en\" id=\"5c941af808a340c2994fe0d639af6699-0\" class=\"displacy\" width=\"3530\" height=\"497.0\" direction=\"ltr\" style=\"max-width: none; height: 497.0px; color: #000000; background: #ffffff; font-family: Arial; direction: ltr\">\\n<text class=\"displacy-token\" fill=\"currentColor\" text-anchor=\"middle\" y=\"407.0\">\\n    <tspan class=\"displacy-word\" fill=\"currentColor\" x=\"50\">Space</tspan>\\n    <tspan class=\"displacy-tag\" dy=\"2em\" fill=\"currentColor\" x=\"50\">NOUN</tspan>\\n</text>\\n\\n<text class=\"displacy-token\" fill=\"currentColor\" text-anchor=\"middle\" y=\"407.0\">\\n    <tspan class=\"displacy-word\" fill=\"currentColor\" x=\"170\">exploration</tspan>\\n    <tspan class=\"displacy-tag\" dy=\"2em\" fill=\"currentColor\" x=\"170\">NOUN</tspan>\\n</text>\\n\\n<text class=\"displacy-token\" fill=\"currentColor\" text-anchor=\"middle\" y=\"407.0\">\\n    <tspan class=\"displacy-word\" fill=\"currentColor\" x=\"290\">has</tspan>\\n    <tspan class=\"displacy-tag\" dy=\"2em\" fill=\"currentColor\" x=\"290\">AUX</tspan>\\n</text>\\n\\n<text class=\"displacy-token\" fill=\"currentColor\" text-anchor=\"middle\" y=\"407.0\">\\n    <tspan class=\"displacy-word\" fill=\"currentColor\" x=\"410\">captivated</tspan>\\n    <tspan class=\"displacy-tag\" dy=\"2em\" fill=\"currentColor\" x=\"410\">VERB</tspan>\\n</text>\\n\\n<text class=\"displacy-token\" fill=\"currentColor\" text-anchor=\"middle\" y=\"407.0\">\\n    <tspan class=\"displacy-word\" fill=\"currentColor\" x=\"530\">human</tspan>\\n    <tspan class=\"displacy-tag\" dy=\"2em\" fill=\"currentColor\" x=\"530\">ADJ</tspan>\\n</text>\\n\\n<text class=\"displacy-token\" fill=\"currentColor\" text-anchor=\"middle\" y=\"407.0\">\\n    <tspan class=\"displacy-word\" fill=\"currentColor\" x=\"650\">curiosity</tspan>\\n    <tspan class=\"displacy-tag\" dy=\"2em\" fill=\"currentColor\" x=\"650\">NOUN</tspan>\\n</text>\\n\\n<text class=\"displacy-token\" fill=\"currentColor\" text-anchor=\"middle\" y=\"407.0\">\\n    <tspan class=\"displacy-word\" fill=\"currentColor\" x=\"770\">for</tspan>\\n    <tspan class=\"displacy-tag\" dy=\"2em\" fill=\"currentColor\" x=\"770\">ADP</tspan>\\n</text>\\n\\n<text class=\"displacy-token\" fill=\"currentColor\" text-anchor=\"middle\" y=\"407.0\">\\n    <tspan class=\"displacy-word\" fill=\"currentColor\" x=\"890\">centuries,</tspan>\\n    <tspan class=\"displacy-tag\" dy=\"2em\" fill=\"currentColor\" x=\"890\">NOUN</tspan>\\n</text>\\n\\n<text class=\"displacy-token\" fill=\"currentColor\" text-anchor=\"middle\" y=\"407.0\">\\n    <tspan class=\"displacy-word\" fill=\"currentColor\" x=\"1010\">beginning</tspan>\\n    <tspan class=\"displacy-tag\" dy=\"2em\" fill=\"currentColor\" x=\"1010\">VERB</tspan>\\n</text>\\n\\n<text class=\"displacy-token\" fill=\"currentColor\" text-anchor=\"middle\" y=\"407.0\">\\n    <tspan class=\"displacy-word\" fill=\"currentColor\" x=\"1130\">with</tspan>\\n    <tspan class=\"displacy-tag\" dy=\"2em\" fill=\"currentColor\" x=\"1130\">ADP</tspan>\\n</text>\\n\\n<text class=\"displacy-token\" fill=\"currentColor\" text-anchor=\"middle\" y=\"407.0\">\\n    <tspan class=\"displacy-word\" fill=\"currentColor\" x=\"1250\">ancient</tspan>\\n    <tspan class=\"displacy-tag\" dy=\"2em\" fill=\"currentColor\" x=\"1250\">ADJ</tspan>\\n</text>\\n\\n<text class=\"displacy-token\" fill=\"currentColor\" text-anchor=\"middle\" y=\"407.0\">\\n    <tspan class=\"displacy-word\" fill=\"currentColor\" x=\"1370\">astronomers</tspan>\\n    <tspan class=\"displacy-tag\" dy=\"2em\" fill=\"currentColor\" x=\"1370\">NOUN</tspan>\\n</text>\\n\\n<text class=\"displacy-token\" fill=\"currentColor\" text-anchor=\"middle\" y=\"407.0\">\\n    <tspan class=\"displacy-word\" fill=\"currentColor\" x=\"1490\">observing</tspan>\\n    <tspan class=\"displacy-tag\" dy=\"2em\" fill=\"currentColor\" x=\"1490\">VERB</tspan>\\n</text>\\n\\n<text class=\"displacy-token\" fill=\"currentColor\" text-anchor=\"middle\" y=\"407.0\">\\n    <tspan class=\"displacy-word\" fill=\"currentColor\" x=\"1610\">the</tspan>\\n    <tspan class=\"displacy-tag\" dy=\"2em\" fill=\"currentColor\" x=\"1610\">DET</tspan>\\n</text>\\n\\n<text class=\"displacy-token\" fill=\"currentColor\" text-anchor=\"middle\" y=\"407.0\">\\n    <tspan class=\"displacy-word\" fill=\"currentColor\" x=\"1730\">night</tspan>\\n    <tspan class=\"displacy-tag\" dy=\"2em\" fill=\"currentColor\" x=\"1730\">NOUN</tspan>\\n</text>\\n\\n<text class=\"displacy-token\" fill=\"currentColor\" text-anchor=\"middle\" y=\"407.0\">\\n    <tspan class=\"displacy-word\" fill=\"currentColor\" x=\"1850\">sky</tspan>\\n    <tspan class=\"displacy-tag\" dy=\"2em\" fill=\"currentColor\" x=\"1850\">NOUN</tspan>\\n</text>\\n\\n<text class=\"displacy-token\" fill=\"currentColor\" text-anchor=\"middle\" y=\"407.0\">\\n    <tspan class=\"displacy-word\" fill=\"currentColor\" x=\"1970\">and</tspan>\\n    <tspan class=\"displacy-tag\" dy=\"2em\" fill=\"currentColor\" x=\"1970\">CCONJ</tspan>\\n</text>\\n\\n<text class=\"displacy-token\" fill=\"currentColor\" text-anchor=\"middle\" y=\"407.0\">\\n    <tspan class=\"displacy-word\" fill=\"currentColor\" x=\"2090\">progressing</tspan>\\n    <tspan class=\"displacy-tag\" dy=\"2em\" fill=\"currentColor\" x=\"2090\">VERB</tspan>\\n</text>\\n\\n<text class=\"displacy-token\" fill=\"currentColor\" text-anchor=\"middle\" y=\"407.0\">\\n    <tspan class=\"displacy-word\" fill=\"currentColor\" x=\"2210\">to</tspan>\\n    <tspan class=\"displacy-tag\" dy=\"2em\" fill=\"currentColor\" x=\"2210\">ADP</tspan>\\n</text>\\n\\n<text class=\"displacy-token\" fill=\"currentColor\" text-anchor=\"middle\" y=\"407.0\">\\n    <tspan class=\"displacy-word\" fill=\"currentColor\" x=\"2330\">modern-</tspan>\\n    <tspan class=\"displacy-tag\" dy=\"2em\" fill=\"currentColor\" x=\"2330\">ADJ</tspan>\\n</text>\\n\\n<text class=\"displacy-token\" fill=\"currentColor\" text-anchor=\"middle\" y=\"407.0\">\\n    <tspan class=\"displacy-word\" fill=\"currentColor\" x=\"2450\">day</tspan>\\n    <tspan class=\"displacy-tag\" dy=\"2em\" fill=\"currentColor\" x=\"2450\">NOUN</tspan>\\n</text>\\n\\n<text class=\"displacy-token\" fill=\"currentColor\" text-anchor=\"middle\" y=\"407.0\">\\n    <tspan class=\"displacy-word\" fill=\"currentColor\" x=\"2570\">missions</tspan>\\n    <tspan class=\"displacy-tag\" dy=\"2em\" fill=\"currentColor\" x=\"2570\">NOUN</tspan>\\n</text>\\n\\n<text class=\"displacy-token\" fill=\"currentColor\" text-anchor=\"middle\" y=\"407.0\">\\n    <tspan class=\"displacy-word\" fill=\"currentColor\" x=\"2690\">to</tspan>\\n    <tspan class=\"displacy-tag\" dy=\"2em\" fill=\"currentColor\" x=\"2690\">ADP</tspan>\\n</text>\\n\\n<text class=\"displacy-token\" fill=\"currentColor\" text-anchor=\"middle\" y=\"407.0\">\\n    <tspan class=\"displacy-word\" fill=\"currentColor\" x=\"2810\">the</tspan>\\n    <tspan class=\"displacy-tag\" dy=\"2em\" fill=\"currentColor\" x=\"2810\">DET</tspan>\\n</text>\\n\\n<text class=\"displacy-token\" fill=\"currentColor\" text-anchor=\"middle\" y=\"407.0\">\\n    <tspan class=\"displacy-word\" fill=\"currentColor\" x=\"2930\">International</tspan>\\n    <tspan class=\"displacy-tag\" dy=\"2em\" fill=\"currentColor\" x=\"2930\">PROPN</tspan>\\n</text>\\n\\n<text class=\"displacy-token\" fill=\"currentColor\" text-anchor=\"middle\" y=\"407.0\">\\n    <tspan class=\"displacy-word\" fill=\"currentColor\" x=\"3050\">Space</tspan>\\n    <tspan class=\"displacy-tag\" dy=\"2em\" fill=\"currentColor\" x=\"3050\">PROPN</tspan>\\n</text>\\n\\n<text class=\"displacy-token\" fill=\"currentColor\" text-anchor=\"middle\" y=\"407.0\">\\n    <tspan class=\"displacy-word\" fill=\"currentColor\" x=\"3170\">Station</tspan>\\n    <tspan class=\"displacy-tag\" dy=\"2em\" fill=\"currentColor\" x=\"3170\">PROPN</tspan>\\n</text>\\n\\n<text class=\"displacy-token\" fill=\"currentColor\" text-anchor=\"middle\" y=\"407.0\">\\n    <tspan class=\"displacy-word\" fill=\"currentColor\" x=\"3290\">and</tspan>\\n    <tspan class=\"displacy-tag\" dy=\"2em\" fill=\"currentColor\" x=\"3290\">CCONJ</tspan>\\n</text>\\n\\n<text class=\"displacy-token\" fill=\"currentColor\" text-anchor=\"middle\" y=\"407.0\">\\n    <tspan class=\"displacy-word\" fill=\"currentColor\" x=\"3410\">beyond.</tspan>\\n    <tspan class=\"displacy-tag\" dy=\"2em\" fill=\"currentColor\" x=\"3410\">ADP</tspan>\\n</text>\\n\\n<g class=\"displacy-arrow\">\\n    <path class=\"displacy-arc\" id=\"arrow-5c941af808a340c2994fe0d639af6699-0-0\" stroke-width=\"2px\" d=\"M70,362.0 C70,302.0 145.0,302.0 145.0,362.0\" fill=\"none\" stroke=\"currentColor\"/>\\n    <text dy=\"1.25em\" style=\"font-size: 0.8em; letter-spacing: 1px\">\\n        <textPath xlink:href=\"#arrow-5c941af808a340c2994fe0d639af6699-0-0\" class=\"displacy-label\" startOffset=\"50%\" side=\"left\" fill=\"currentColor\" text-anchor=\"middle\">compound</textPath>\\n    </text>\\n    <path class=\"displacy-arrowhead\" d=\"M70,364.0 L62,352.0 78,352.0\" fill=\"currentColor\"/>\\n</g>\\n\\n<g class=\"displacy-arrow\">\\n    <path class=\"displacy-arc\" id=\"arrow-5c941af808a340c2994fe0d639af6699-0-1\" stroke-width=\"2px\" d=\"M190,362.0 C190,242.0 390.0,242.0 390.0,362.0\" fill=\"none\" stroke=\"currentColor\"/>\\n    <text dy=\"1.25em\" style=\"font-size: 0.8em; letter-spacing: 1px\">\\n        <textPath xlink:href=\"#arrow-5c941af808a340c2994fe0d639af6699-0-1\" class=\"displacy-label\" startOffset=\"50%\" side=\"left\" fill=\"currentColor\" text-anchor=\"middle\">nsubj</textPath>\\n    </text>\\n    <path class=\"displacy-arrowhead\" d=\"M190,364.0 L182,352.0 198,352.0\" fill=\"currentColor\"/>\\n</g>\\n\\n<g class=\"displacy-arrow\">\\n    <path class=\"displacy-arc\" id=\"arrow-5c941af808a340c2994fe0d639af6699-0-2\" stroke-width=\"2px\" d=\"M310,362.0 C310,302.0 385.0,302.0 385.0,362.0\" fill=\"none\" stroke=\"currentColor\"/>\\n    <text dy=\"1.25em\" style=\"font-size: 0.8em; letter-spacing: 1px\">\\n        <textPath xlink:href=\"#arrow-5c941af808a340c2994fe0d639af6699-0-2\" class=\"displacy-label\" startOffset=\"50%\" side=\"left\" fill=\"currentColor\" text-anchor=\"middle\">aux</textPath>\\n    </text>\\n    <path class=\"displacy-arrowhead\" d=\"M310,364.0 L302,352.0 318,352.0\" fill=\"currentColor\"/>\\n</g>\\n\\n<g class=\"displacy-arrow\">\\n    <path class=\"displacy-arc\" id=\"arrow-5c941af808a340c2994fe0d639af6699-0-3\" stroke-width=\"2px\" d=\"M550,362.0 C550,302.0 625.0,302.0 625.0,362.0\" fill=\"none\" stroke=\"currentColor\"/>\\n    <text dy=\"1.25em\" style=\"font-size: 0.8em; letter-spacing: 1px\">\\n        <textPath xlink:href=\"#arrow-5c941af808a340c2994fe0d639af6699-0-3\" class=\"displacy-label\" startOffset=\"50%\" side=\"left\" fill=\"currentColor\" text-anchor=\"middle\">amod</textPath>\\n    </text>\\n    <path class=\"displacy-arrowhead\" d=\"M550,364.0 L542,352.0 558,352.0\" fill=\"currentColor\"/>\\n</g>\\n\\n<g class=\"displacy-arrow\">\\n    <path class=\"displacy-arc\" id=\"arrow-5c941af808a340c2994fe0d639af6699-0-4\" stroke-width=\"2px\" d=\"M430,362.0 C430,242.0 630.0,242.0 630.0,362.0\" fill=\"none\" stroke=\"currentColor\"/>\\n    <text dy=\"1.25em\" style=\"font-size: 0.8em; letter-spacing: 1px\">\\n        <textPath xlink:href=\"#arrow-5c941af808a340c2994fe0d639af6699-0-4\" class=\"displacy-label\" startOffset=\"50%\" side=\"left\" fill=\"currentColor\" text-anchor=\"middle\">dobj</textPath>\\n    </text>\\n    <path class=\"displacy-arrowhead\" d=\"M630.0,364.0 L638.0,352.0 622.0,352.0\" fill=\"currentColor\"/>\\n</g>\\n\\n<g class=\"displacy-arrow\">\\n    <path class=\"displacy-arc\" id=\"arrow-5c941af808a340c2994fe0d639af6699-0-5\" stroke-width=\"2px\" d=\"M670,362.0 C670,302.0 745.0,302.0 745.0,362.0\" fill=\"none\" stroke=\"currentColor\"/>\\n    <text dy=\"1.25em\" style=\"font-size: 0.8em; letter-spacing: 1px\">\\n        <textPath xlink:href=\"#arrow-5c941af808a340c2994fe0d639af6699-0-5\" class=\"displacy-label\" startOffset=\"50%\" side=\"left\" fill=\"currentColor\" text-anchor=\"middle\">prep</textPath>\\n    </text>\\n    <path class=\"displacy-arrowhead\" d=\"M745.0,364.0 L753.0,352.0 737.0,352.0\" fill=\"currentColor\"/>\\n</g>\\n\\n<g class=\"displacy-arrow\">\\n    <path class=\"displacy-arc\" id=\"arrow-5c941af808a340c2994fe0d639af6699-0-6\" stroke-width=\"2px\" d=\"M790,362.0 C790,302.0 865.0,302.0 865.0,362.0\" fill=\"none\" stroke=\"currentColor\"/>\\n    <text dy=\"1.25em\" style=\"font-size: 0.8em; letter-spacing: 1px\">\\n        <textPath xlink:href=\"#arrow-5c941af808a340c2994fe0d639af6699-0-6\" class=\"displacy-label\" startOffset=\"50%\" side=\"left\" fill=\"currentColor\" text-anchor=\"middle\">pobj</textPath>\\n    </text>\\n    <path class=\"displacy-arrowhead\" d=\"M865.0,364.0 L873.0,352.0 857.0,352.0\" fill=\"currentColor\"/>\\n</g>\\n\\n<g class=\"displacy-arrow\">\\n    <path class=\"displacy-arc\" id=\"arrow-5c941af808a340c2994fe0d639af6699-0-7\" stroke-width=\"2px\" d=\"M430,362.0 C430,182.0 995.0,182.0 995.0,362.0\" fill=\"none\" stroke=\"currentColor\"/>\\n    <text dy=\"1.25em\" style=\"font-size: 0.8em; letter-spacing: 1px\">\\n        <textPath xlink:href=\"#arrow-5c941af808a340c2994fe0d639af6699-0-7\" class=\"displacy-label\" startOffset=\"50%\" side=\"left\" fill=\"currentColor\" text-anchor=\"middle\">advcl</textPath>\\n    </text>\\n    <path class=\"displacy-arrowhead\" d=\"M995.0,364.0 L1003.0,352.0 987.0,352.0\" fill=\"currentColor\"/>\\n</g>\\n\\n<g class=\"displacy-arrow\">\\n    <path class=\"displacy-arc\" id=\"arrow-5c941af808a340c2994fe0d639af6699-0-8\" stroke-width=\"2px\" d=\"M1030,362.0 C1030,302.0 1105.0,302.0 1105.0,362.0\" fill=\"none\" stroke=\"currentColor\"/>\\n    <text dy=\"1.25em\" style=\"font-size: 0.8em; letter-spacing: 1px\">\\n        <textPath xlink:href=\"#arrow-5c941af808a340c2994fe0d639af6699-0-8\" class=\"displacy-label\" startOffset=\"50%\" side=\"left\" fill=\"currentColor\" text-anchor=\"middle\">prep</textPath>\\n    </text>\\n    <path class=\"displacy-arrowhead\" d=\"M1105.0,364.0 L1113.0,352.0 1097.0,352.0\" fill=\"currentColor\"/>\\n</g>\\n\\n<g class=\"displacy-arrow\">\\n    <path class=\"displacy-arc\" id=\"arrow-5c941af808a340c2994fe0d639af6699-0-9\" stroke-width=\"2px\" d=\"M1270,362.0 C1270,302.0 1345.0,302.0 1345.0,362.0\" fill=\"none\" stroke=\"currentColor\"/>\\n    <text dy=\"1.25em\" style=\"font-size: 0.8em; letter-spacing: 1px\">\\n        <textPath xlink:href=\"#arrow-5c941af808a340c2994fe0d639af6699-0-9\" class=\"displacy-label\" startOffset=\"50%\" side=\"left\" fill=\"currentColor\" text-anchor=\"middle\">amod</textPath>\\n    </text>\\n    <path class=\"displacy-arrowhead\" d=\"M1270,364.0 L1262,352.0 1278,352.0\" fill=\"currentColor\"/>\\n</g>\\n\\n<g class=\"displacy-arrow\">\\n    <path class=\"displacy-arc\" id=\"arrow-5c941af808a340c2994fe0d639af6699-0-10\" stroke-width=\"2px\" d=\"M1150,362.0 C1150,242.0 1350.0,242.0 1350.0,362.0\" fill=\"none\" stroke=\"currentColor\"/>\\n    <text dy=\"1.25em\" style=\"font-size: 0.8em; letter-spacing: 1px\">\\n        <textPath xlink:href=\"#arrow-5c941af808a340c2994fe0d639af6699-0-10\" class=\"displacy-label\" startOffset=\"50%\" side=\"left\" fill=\"currentColor\" text-anchor=\"middle\">pobj</textPath>\\n    </text>\\n    <path class=\"displacy-arrowhead\" d=\"M1350.0,364.0 L1358.0,352.0 1342.0,352.0\" fill=\"currentColor\"/>\\n</g>\\n\\n<g class=\"displacy-arrow\">\\n    <path class=\"displacy-arc\" id=\"arrow-5c941af808a340c2994fe0d639af6699-0-11\" stroke-width=\"2px\" d=\"M1390,362.0 C1390,302.0 1465.0,302.0 1465.0,362.0\" fill=\"none\" stroke=\"currentColor\"/>\\n    <text dy=\"1.25em\" style=\"font-size: 0.8em; letter-spacing: 1px\">\\n        <textPath xlink:href=\"#arrow-5c941af808a340c2994fe0d639af6699-0-11\" class=\"displacy-label\" startOffset=\"50%\" side=\"left\" fill=\"currentColor\" text-anchor=\"middle\">acl</textPath>\\n    </text>\\n    <path class=\"displacy-arrowhead\" d=\"M1465.0,364.0 L1473.0,352.0 1457.0,352.0\" fill=\"currentColor\"/>\\n</g>\\n\\n<g class=\"displacy-arrow\">\\n    <path class=\"displacy-arc\" id=\"arrow-5c941af808a340c2994fe0d639af6699-0-12\" stroke-width=\"2px\" d=\"M1630,362.0 C1630,242.0 1830.0,242.0 1830.0,362.0\" fill=\"none\" stroke=\"currentColor\"/>\\n    <text dy=\"1.25em\" style=\"font-size: 0.8em; letter-spacing: 1px\">\\n        <textPath xlink:href=\"#arrow-5c941af808a340c2994fe0d639af6699-0-12\" class=\"displacy-label\" startOffset=\"50%\" side=\"left\" fill=\"currentColor\" text-anchor=\"middle\">det</textPath>\\n    </text>\\n    <path class=\"displacy-arrowhead\" d=\"M1630,364.0 L1622,352.0 1638,352.0\" fill=\"currentColor\"/>\\n</g>\\n\\n<g class=\"displacy-arrow\">\\n    <path class=\"displacy-arc\" id=\"arrow-5c941af808a340c2994fe0d639af6699-0-13\" stroke-width=\"2px\" d=\"M1750,362.0 C1750,302.0 1825.0,302.0 1825.0,362.0\" fill=\"none\" stroke=\"currentColor\"/>\\n    <text dy=\"1.25em\" style=\"font-size: 0.8em; letter-spacing: 1px\">\\n        <textPath xlink:href=\"#arrow-5c941af808a340c2994fe0d639af6699-0-13\" class=\"displacy-label\" startOffset=\"50%\" side=\"left\" fill=\"currentColor\" text-anchor=\"middle\">compound</textPath>\\n    </text>\\n    <path class=\"displacy-arrowhead\" d=\"M1750,364.0 L1742,352.0 1758,352.0\" fill=\"currentColor\"/>\\n</g>\\n\\n<g class=\"displacy-arrow\">\\n    <path class=\"displacy-arc\" id=\"arrow-5c941af808a340c2994fe0d639af6699-0-14\" stroke-width=\"2px\" d=\"M1510,362.0 C1510,182.0 1835.0,182.0 1835.0,362.0\" fill=\"none\" stroke=\"currentColor\"/>\\n    <text dy=\"1.25em\" style=\"font-size: 0.8em; letter-spacing: 1px\">\\n        <textPath xlink:href=\"#arrow-5c941af808a340c2994fe0d639af6699-0-14\" class=\"displacy-label\" startOffset=\"50%\" side=\"left\" fill=\"currentColor\" text-anchor=\"middle\">dobj</textPath>\\n    </text>\\n    <path class=\"displacy-arrowhead\" d=\"M1835.0,364.0 L1843.0,352.0 1827.0,352.0\" fill=\"currentColor\"/>\\n</g>\\n\\n<g class=\"displacy-arrow\">\\n    <path class=\"displacy-arc\" id=\"arrow-5c941af808a340c2994fe0d639af6699-0-15\" stroke-width=\"2px\" d=\"M1510,362.0 C1510,122.0 1960.0,122.0 1960.0,362.0\" fill=\"none\" stroke=\"currentColor\"/>\\n    <text dy=\"1.25em\" style=\"font-size: 0.8em; letter-spacing: 1px\">\\n        <textPath xlink:href=\"#arrow-5c941af808a340c2994fe0d639af6699-0-15\" class=\"displacy-label\" startOffset=\"50%\" side=\"left\" fill=\"currentColor\" text-anchor=\"middle\">cc</textPath>\\n    </text>\\n    <path class=\"displacy-arrowhead\" d=\"M1960.0,364.0 L1968.0,352.0 1952.0,352.0\" fill=\"currentColor\"/>\\n</g>\\n\\n<g class=\"displacy-arrow\">\\n    <path class=\"displacy-arc\" id=\"arrow-5c941af808a340c2994fe0d639af6699-0-16\" stroke-width=\"2px\" d=\"M1510,362.0 C1510,62.0 2085.0,62.0 2085.0,362.0\" fill=\"none\" stroke=\"currentColor\"/>\\n    <text dy=\"1.25em\" style=\"font-size: 0.8em; letter-spacing: 1px\">\\n        <textPath xlink:href=\"#arrow-5c941af808a340c2994fe0d639af6699-0-16\" class=\"displacy-label\" startOffset=\"50%\" side=\"left\" fill=\"currentColor\" text-anchor=\"middle\">conj</textPath>\\n    </text>\\n    <path class=\"displacy-arrowhead\" d=\"M2085.0,364.0 L2093.0,352.0 2077.0,352.0\" fill=\"currentColor\"/>\\n</g>\\n\\n<g class=\"displacy-arrow\">\\n    <path class=\"displacy-arc\" id=\"arrow-5c941af808a340c2994fe0d639af6699-0-17\" stroke-width=\"2px\" d=\"M2110,362.0 C2110,302.0 2185.0,302.0 2185.0,362.0\" fill=\"none\" stroke=\"currentColor\"/>\\n    <text dy=\"1.25em\" style=\"font-size: 0.8em; letter-spacing: 1px\">\\n        <textPath xlink:href=\"#arrow-5c941af808a340c2994fe0d639af6699-0-17\" class=\"displacy-label\" startOffset=\"50%\" side=\"left\" fill=\"currentColor\" text-anchor=\"middle\">prep</textPath>\\n    </text>\\n    <path class=\"displacy-arrowhead\" d=\"M2185.0,364.0 L2193.0,352.0 2177.0,352.0\" fill=\"currentColor\"/>\\n</g>\\n\\n<g class=\"displacy-arrow\">\\n    <path class=\"displacy-arc\" id=\"arrow-5c941af808a340c2994fe0d639af6699-0-18\" stroke-width=\"2px\" d=\"M2350,362.0 C2350,302.0 2425.0,302.0 2425.0,362.0\" fill=\"none\" stroke=\"currentColor\"/>\\n    <text dy=\"1.25em\" style=\"font-size: 0.8em; letter-spacing: 1px\">\\n        <textPath xlink:href=\"#arrow-5c941af808a340c2994fe0d639af6699-0-18\" class=\"displacy-label\" startOffset=\"50%\" side=\"left\" fill=\"currentColor\" text-anchor=\"middle\">amod</textPath>\\n    </text>\\n    <path class=\"displacy-arrowhead\" d=\"M2350,364.0 L2342,352.0 2358,352.0\" fill=\"currentColor\"/>\\n</g>\\n\\n<g class=\"displacy-arrow\">\\n    <path class=\"displacy-arc\" id=\"arrow-5c941af808a340c2994fe0d639af6699-0-19\" stroke-width=\"2px\" d=\"M2470,362.0 C2470,302.0 2545.0,302.0 2545.0,362.0\" fill=\"none\" stroke=\"currentColor\"/>\\n    <text dy=\"1.25em\" style=\"font-size: 0.8em; letter-spacing: 1px\">\\n        <textPath xlink:href=\"#arrow-5c941af808a340c2994fe0d639af6699-0-19\" class=\"displacy-label\" startOffset=\"50%\" side=\"left\" fill=\"currentColor\" text-anchor=\"middle\">compound</textPath>\\n    </text>\\n    <path class=\"displacy-arrowhead\" d=\"M2470,364.0 L2462,352.0 2478,352.0\" fill=\"currentColor\"/>\\n</g>\\n\\n<g class=\"displacy-arrow\">\\n    <path class=\"displacy-arc\" id=\"arrow-5c941af808a340c2994fe0d639af6699-0-20\" stroke-width=\"2px\" d=\"M2230,362.0 C2230,242.0 2550.0,242.0 2550.0,362.0\" fill=\"none\" stroke=\"currentColor\"/>\\n    <text dy=\"1.25em\" style=\"font-size: 0.8em; letter-spacing: 1px\">\\n        <textPath xlink:href=\"#arrow-5c941af808a340c2994fe0d639af6699-0-20\" class=\"displacy-label\" startOffset=\"50%\" side=\"left\" fill=\"currentColor\" text-anchor=\"middle\">pobj</textPath>\\n    </text>\\n    <path class=\"displacy-arrowhead\" d=\"M2550.0,364.0 L2558.0,352.0 2542.0,352.0\" fill=\"currentColor\"/>\\n</g>\\n\\n<g class=\"displacy-arrow\">\\n    <path class=\"displacy-arc\" id=\"arrow-5c941af808a340c2994fe0d639af6699-0-21\" stroke-width=\"2px\" d=\"M2110,362.0 C2110,182.0 2675.0,182.0 2675.0,362.0\" fill=\"none\" stroke=\"currentColor\"/>\\n    <text dy=\"1.25em\" style=\"font-size: 0.8em; letter-spacing: 1px\">\\n        <textPath xlink:href=\"#arrow-5c941af808a340c2994fe0d639af6699-0-21\" class=\"displacy-label\" startOffset=\"50%\" side=\"left\" fill=\"currentColor\" text-anchor=\"middle\">prep</textPath>\\n    </text>\\n    <path class=\"displacy-arrowhead\" d=\"M2675.0,364.0 L2683.0,352.0 2667.0,352.0\" fill=\"currentColor\"/>\\n</g>\\n\\n<g class=\"displacy-arrow\">\\n    <path class=\"displacy-arc\" id=\"arrow-5c941af808a340c2994fe0d639af6699-0-22\" stroke-width=\"2px\" d=\"M2830,362.0 C2830,182.0 3155.0,182.0 3155.0,362.0\" fill=\"none\" stroke=\"currentColor\"/>\\n    <text dy=\"1.25em\" style=\"font-size: 0.8em; letter-spacing: 1px\">\\n        <textPath xlink:href=\"#arrow-5c941af808a340c2994fe0d639af6699-0-22\" class=\"displacy-label\" startOffset=\"50%\" side=\"left\" fill=\"currentColor\" text-anchor=\"middle\">det</textPath>\\n    </text>\\n    <path class=\"displacy-arrowhead\" d=\"M2830,364.0 L2822,352.0 2838,352.0\" fill=\"currentColor\"/>\\n</g>\\n\\n<g class=\"displacy-arrow\">\\n    <path class=\"displacy-arc\" id=\"arrow-5c941af808a340c2994fe0d639af6699-0-23\" stroke-width=\"2px\" d=\"M2950,362.0 C2950,242.0 3150.0,242.0 3150.0,362.0\" fill=\"none\" stroke=\"currentColor\"/>\\n    <text dy=\"1.25em\" style=\"font-size: 0.8em; letter-spacing: 1px\">\\n        <textPath xlink:href=\"#arrow-5c941af808a340c2994fe0d639af6699-0-23\" class=\"displacy-label\" startOffset=\"50%\" side=\"left\" fill=\"currentColor\" text-anchor=\"middle\">compound</textPath>\\n    </text>\\n    <path class=\"displacy-arrowhead\" d=\"M2950,364.0 L2942,352.0 2958,352.0\" fill=\"currentColor\"/>\\n</g>\\n\\n<g class=\"displacy-arrow\">\\n    <path class=\"displacy-arc\" id=\"arrow-5c941af808a340c2994fe0d639af6699-0-24\" stroke-width=\"2px\" d=\"M3070,362.0 C3070,302.0 3145.0,302.0 3145.0,362.0\" fill=\"none\" stroke=\"currentColor\"/>\\n    <text dy=\"1.25em\" style=\"font-size: 0.8em; letter-spacing: 1px\">\\n        <textPath xlink:href=\"#arrow-5c941af808a340c2994fe0d639af6699-0-24\" class=\"displacy-label\" startOffset=\"50%\" side=\"left\" fill=\"currentColor\" text-anchor=\"middle\">compound</textPath>\\n    </text>\\n    <path class=\"displacy-arrowhead\" d=\"M3070,364.0 L3062,352.0 3078,352.0\" fill=\"currentColor\"/>\\n</g>\\n\\n<g class=\"displacy-arrow\">\\n    <path class=\"displacy-arc\" id=\"arrow-5c941af808a340c2994fe0d639af6699-0-25\" stroke-width=\"2px\" d=\"M2710,362.0 C2710,122.0 3160.0,122.0 3160.0,362.0\" fill=\"none\" stroke=\"currentColor\"/>\\n    <text dy=\"1.25em\" style=\"font-size: 0.8em; letter-spacing: 1px\">\\n        <textPath xlink:href=\"#arrow-5c941af808a340c2994fe0d639af6699-0-25\" class=\"displacy-label\" startOffset=\"50%\" side=\"left\" fill=\"currentColor\" text-anchor=\"middle\">pobj</textPath>\\n    </text>\\n    <path class=\"displacy-arrowhead\" d=\"M3160.0,364.0 L3168.0,352.0 3152.0,352.0\" fill=\"currentColor\"/>\\n</g>\\n\\n<g class=\"displacy-arrow\">\\n    <path class=\"displacy-arc\" id=\"arrow-5c941af808a340c2994fe0d639af6699-0-26\" stroke-width=\"2px\" d=\"M2710,362.0 C2710,62.0 3285.0,62.0 3285.0,362.0\" fill=\"none\" stroke=\"currentColor\"/>\\n    <text dy=\"1.25em\" style=\"font-size: 0.8em; letter-spacing: 1px\">\\n        <textPath xlink:href=\"#arrow-5c941af808a340c2994fe0d639af6699-0-26\" class=\"displacy-label\" startOffset=\"50%\" side=\"left\" fill=\"currentColor\" text-anchor=\"middle\">cc</textPath>\\n    </text>\\n    <path class=\"displacy-arrowhead\" d=\"M3285.0,364.0 L3293.0,352.0 3277.0,352.0\" fill=\"currentColor\"/>\\n</g>\\n\\n<g class=\"displacy-arrow\">\\n    <path class=\"displacy-arc\" id=\"arrow-5c941af808a340c2994fe0d639af6699-0-27\" stroke-width=\"2px\" d=\"M2710,362.0 C2710,2.0 3410.0,2.0 3410.0,362.0\" fill=\"none\" stroke=\"currentColor\"/>\\n    <text dy=\"1.25em\" style=\"font-size: 0.8em; letter-spacing: 1px\">\\n        <textPath xlink:href=\"#arrow-5c941af808a340c2994fe0d639af6699-0-27\" class=\"displacy-label\" startOffset=\"50%\" side=\"left\" fill=\"currentColor\" text-anchor=\"middle\">conj</textPath>\\n    </text>\\n    <path class=\"displacy-arrowhead\" d=\"M3410.0,364.0 L3418.0,352.0 3402.0,352.0\" fill=\"currentColor\"/>\\n</g>\\n</svg>'"
            ],
            "application/vnd.google.colaboratory.intrinsic+json": {
              "type": "string"
            }
          },
          "metadata": {},
          "execution_count": 46
        }
      ]
    },
    {
      "cell_type": "markdown",
      "source": [
        "PERCEPTRON"
      ],
      "metadata": {
        "id": "MoGYymGoBrHJ"
      }
    },
    {
      "cell_type": "code",
      "source": [
        "from nltk.corpus import brown\n",
        "from nltk.tag import PerceptronTagger\n",
        "nltk.download('brown')"
      ],
      "metadata": {
        "id": "VElQMsUP_Hav",
        "colab": {
          "base_uri": "https://localhost:8080/"
        },
        "outputId": "2d085b36-ebaf-4b4e-b5ff-3cc22e2af495"
      },
      "execution_count": null,
      "outputs": [
        {
          "output_type": "stream",
          "name": "stderr",
          "text": [
            "[nltk_data] Downloading package brown to /root/nltk_data...\n",
            "[nltk_data]   Unzipping corpora/brown.zip.\n"
          ]
        },
        {
          "output_type": "execute_result",
          "data": {
            "text/plain": [
              "True"
            ]
          },
          "metadata": {},
          "execution_count": 43
        }
      ]
    },
    {
      "cell_type": "code",
      "source": [
        "# Train the Perceptron tagger on the Brown corpus\n",
        "corpus = brown.tagged_sents(categories=\"news\")\n",
        "tagger = PerceptronTagger(load=False)\n",
        "tagger.train(corpus)\n",
        "\n",
        "# Tag a new sentence\n",
        "sentence = \"Space exploration has captivated human curiosity for centuries.\"\n",
        "tokens = nltk.word_tokenize(sentence)\n",
        "tags = tagger.tag(tokens)\n",
        "\n",
        "# Print the tagged sentence\n",
        "print(tags)"
      ],
      "metadata": {
        "colab": {
          "base_uri": "https://localhost:8080/"
        },
        "id": "30ylSipP_Ycm",
        "outputId": "6b9d3f3f-ff60-4257-87f6-729b5ac4031f"
      },
      "execution_count": null,
      "outputs": [
        {
          "output_type": "stream",
          "name": "stdout",
          "text": [
            "[('Space', 'NN-TL'), ('exploration', 'NN'), ('has', 'HVZ'), ('captivated', 'VBN'), ('human', 'JJ'), ('curiosity', 'NN'), ('for', 'IN'), ('centuries', 'NNS'), ('.', '.')]\n"
          ]
        }
      ]
    },
    {
      "cell_type": "markdown",
      "source": [
        "NER AND CHUNKING"
      ],
      "metadata": {
        "id": "xFtJ-D0mBuiE"
      }
    },
    {
      "cell_type": "code",
      "source": [
        "import spacy\n",
        "\n",
        "# Load the language model\n",
        "nlp = spacy.load(\"en_core_web_sm\")\n",
        "\n",
        "sentence = text\n",
        "\n",
        "# nlp function returns an object with individual token information, \n",
        "# linguistic features and relationships\n",
        "doc = nlp(sentence)\n",
        "\n",
        "# Extract Named Entities\n",
        "print(\"{:<15} | {:<10}\".format('Entity', 'Label'))\n",
        "print(\"-\" * 25)\n",
        "for ent in doc.ents:\n",
        "    print(\"{:<15} | {:<10}\".format(ent.text, ent.label_))\n",
        "\n",
        "# Extract Noun Chunks\n",
        "print(\"\\nNoun chunks:\")\n",
        "print(\"-\" * 25)\n",
        "for chunk in doc.noun_chunks:\n",
        "    print(chunk.text)\n"
      ],
      "metadata": {
        "colab": {
          "base_uri": "https://localhost:8080/"
        },
        "id": "rYU5Hy_1AlSq",
        "outputId": "45ddbba2-9f27-47fb-d41b-26b01c567679"
      },
      "execution_count": 48,
      "outputs": [
        {
          "output_type": "stream",
          "name": "stdout",
          "text": [
            "Entity          | Label     \n",
            "-------------------------\n",
            "centuries       | DATE      \n",
            "the International Space Station | ORG       \n",
            "\n",
            "Noun chunks:\n",
            "-------------------------\n",
            "Space exploration\n",
            "human curiosity\n",
            "centuries\n",
            "ancient astronomers\n",
            "the night sky\n",
            "modern-day missions\n",
            "the International Space Station\n"
          ]
        }
      ]
    }
  ]
}